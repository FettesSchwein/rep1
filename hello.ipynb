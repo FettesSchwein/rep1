{
 "cells": [
  {
   "cell_type": "code",
   "execution_count": 2,
   "metadata": {},
   "outputs": [
    {
     "name": "stdout",
     "output_type": "stream",
     "text": [
      "5\n",
      "hello i am under the water\n"
     ]
    }
   ],
   "source": [
    "x=5\n",
    "print(x)\n",
    "\n",
    "print(\"hello i am under the water\")"
   ]
  }
 ],
 "metadata": {
  "kernelspec": {
   "display_name": "Python 3",
   "language": "python",
   "name": "python3"
  },
  "language_info": {
   "codemirror_mode": {
    "name": "ipython",
    "version": 3
   },
   "file_extension": ".py",
   "mimetype": "text/x-python",
   "name": "python",
   "nbconvert_exporter": "python",
   "pygments_lexer": "ipython3",
   "version": "3.9.7"
  },
  "orig_nbformat": 4,
  "vscode": {
   "interpreter": {
    "hash": "d4cb6310148ce6b61e9f31e932cef72aec5095cffb4a3664cc661d2facb6816a"
   }
  }
 },
 "nbformat": 4,
 "nbformat_minor": 2
}
